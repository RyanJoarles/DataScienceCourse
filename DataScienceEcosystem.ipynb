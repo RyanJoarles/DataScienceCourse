{
 "cells": [
  {
   "cell_type": "markdown",
   "id": "bd60b9c7",
   "metadata": {},
   "source": [
    "# Data Science Tools and Ecosystem"
   ]
  },
  {
   "cell_type": "markdown",
   "id": "9a9fe64d",
   "metadata": {},
   "source": [
    "Exercise 1: Create a Jupyter Notebook\n",
    "Exercise 2: Create markdown cell with title of the notebook"
   ]
  },
  {
   "cell_type": "markdown",
   "id": "91051325",
   "metadata": {},
   "source": [
    "Exercise 3 - Create a markdown cell for an introduction"
   ]
  },
  {
   "cell_type": "markdown",
   "id": "dcad7903",
   "metadata": {},
   "source": [
    "In this notebook, Data Science Tools and Ecosystem are summarized."
   ]
  },
  {
   "cell_type": "markdown",
   "id": "1645794e",
   "metadata": {},
   "source": [
    "**Objectives:** \n",
    "\n",
    "\n",
    "- List popular languages for Data Science\n",
    "- List common data science libraries\n",
    "- Data Science Tools"
   ]
  },
  {
   "cell_type": "markdown",
   "id": "2e342a36",
   "metadata": {},
   "source": [
    "Exercise 4 - Create a markdown cell to list data science languages"
   ]
  },
  {
   "cell_type": "markdown",
   "id": "b87a1e7b",
   "metadata": {},
   "source": [
    "Some of the popular languages that Data Scientists use are:\n",
    "ordered list\n",
    "- R\n",
    "- Python\n",
    "- SQL\n",
    "- Java\n",
    "- C++\n",
    "- Scala\n",
    "- Julia\n"
   ]
  },
  {
   "cell_type": "markdown",
   "id": "c3e8bc4e",
   "metadata": {},
   "source": [
    "Exercise 5 - Create a markdown cell to list data science libraries\n"
   ]
  },
  {
   "cell_type": "markdown",
   "id": "eaf93370",
   "metadata": {},
   "source": [
    "Some of the commonly used libraries used by Data Scientists include:\n",
    "ordered list\n",
    "- Pandas\n",
    "- NumPy\n",
    "- Matplotlib\n",
    "- Seaborn\n",
    "- Scikit-learn\n",
    "- Keras\n",
    "- TensorFlow\n",
    "- PyTorch"
   ]
  },
  {
   "cell_type": "markdown",
   "id": "d09b7ff6",
   "metadata": {},
   "source": [
    "Exercise 6 - Create a markdown cell with a table of Data Science tools\n"
   ]
  },
  {
   "cell_type": "markdown",
   "id": "5b21c890",
   "metadata": {},
   "source": [
    "| Data Science Tools |\n",
    "| :- |\n",
    "| Jupyter|\n",
    "| Apache Zeppelin|\n",
    "| RStudio|\n"
   ]
  },
  {
   "cell_type": "markdown",
   "id": "314cebbe",
   "metadata": {},
   "source": [
    "Exercise 7 - Create a markdown cell introducing arithmetic expression examples"
   ]
  },
  {
   "cell_type": "markdown",
   "id": "95e3852f",
   "metadata": {},
   "source": [
    "### Below are a few examples of evaluating arithmetic expressions in Python"
   ]
  },
  {
   "cell_type": "markdown",
   "id": "f5e7fd39",
   "metadata": {},
   "source": [
    "2 * 2 = 4"
   ]
  },
  {
   "cell_type": "markdown",
   "id": "582fddd4",
   "metadata": {},
   "source": [
    "4 / 2 = 2"
   ]
  },
  {
   "cell_type": "markdown",
   "id": "8fad3781",
   "metadata": {},
   "source": [
    "2 ** 3 = 8"
   ]
  },
  {
   "cell_type": "markdown",
   "id": "61532231",
   "metadata": {},
   "source": [
    "5 // 2 = 2"
   ]
  },
  {
   "cell_type": "markdown",
   "id": "2bac815e",
   "metadata": {},
   "source": [
    "Exercise 8 - Create a code cell to multiply and add numbers"
   ]
  },
  {
   "cell_type": "code",
   "execution_count": 12,
   "id": "ce614b64",
   "metadata": {},
   "outputs": [
    {
     "data": {
      "text/plain": [
       "17"
      ]
     },
     "execution_count": 12,
     "metadata": {},
     "output_type": "execute_result"
    }
   ],
   "source": [
    "#This a simple arithmetic expression to mutiply then add integers\n",
    "(3*4)+5"
   ]
  },
  {
   "cell_type": "markdown",
   "id": "aa4d4f9b",
   "metadata": {},
   "source": [
    "Exercise 9 - Create a code cell to convert minutes to hours"
   ]
  },
  {
   "cell_type": "code",
   "execution_count": 13,
   "id": "7d816378",
   "metadata": {},
   "outputs": [
    {
     "data": {
      "text/plain": [
       "3.3333333333333335"
      ]
     },
     "execution_count": 13,
     "metadata": {},
     "output_type": "execute_result"
    }
   ],
   "source": [
    "#This will convert 200 minutes to hours by diving by 60\n",
    "200/60"
   ]
  },
  {
   "cell_type": "markdown",
   "id": "98822804",
   "metadata": {},
   "source": [
    "Exercise 10 - Insert a markdown cell to list Objectives"
   ]
  },
  {
   "cell_type": "markdown",
   "id": "fa99a469",
   "metadata": {},
   "source": [
    "Exercise 11 - Create a markdown cell to indicate the Author's name"
   ]
  },
  {
   "cell_type": "markdown",
   "id": "ea8816a8",
   "metadata": {},
   "source": [
    "## Author \n",
    "Ryan J."
   ]
  },
  {
   "cell_type": "code",
   "execution_count": null,
   "id": "5ab91ae1",
   "metadata": {},
   "outputs": [],
   "source": []
  }
 ],
 "metadata": {
  "kernelspec": {
   "display_name": "Python 3 (ipykernel)",
   "language": "python",
   "name": "python3"
  },
  "language_info": {
   "codemirror_mode": {
    "name": "ipython",
    "version": 3
   },
   "file_extension": ".py",
   "mimetype": "text/x-python",
   "name": "python",
   "nbconvert_exporter": "python",
   "pygments_lexer": "ipython3",
   "version": "3.10.11"
  }
 },
 "nbformat": 4,
 "nbformat_minor": 5
}
